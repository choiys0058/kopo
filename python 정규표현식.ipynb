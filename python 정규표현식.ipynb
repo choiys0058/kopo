{
 "cells": [
  {
   "cell_type": "markdown",
   "metadata": {},
   "source": [
    "## 정규표현식"
   ]
  },
  {
   "cell_type": "code",
   "execution_count": 58,
   "metadata": {},
   "outputs": [],
   "source": [
    "# 정규표현식의 기초, 메타 문자\n",
    "# 메타 문자란 원래 그 문자가 가진 뜻이 아닌 특별한 용도로 사용되는 문자를 말한다\n",
    "# . ^ $ * + ? { } [ ] \\ ! ( )"
   ]
  },
  {
   "cell_type": "code",
   "execution_count": 59,
   "metadata": {},
   "outputs": [],
   "source": [
    "# 문자클래스 [ ]\n",
    "# 문자클래스로 만들어진 정규식은 [ 와 ] 사이의 문자들과 매치를 말한다\n",
    "# [abc]"
   ]
  },
  {
   "cell_type": "code",
   "execution_count": 60,
   "metadata": {},
   "outputs": [],
   "source": [
    "# 문자열 \"a\" 는 정규식과 일치하는 문자인 \"a\" 가 있으므로 매치한다\n",
    "# 문자열 \"before\" 는 정규식과 일치하는 문자인 \"b\" 가 있으므로 매치한다\n",
    "# 문자열 \"dude\" 는 정규식과 일치하는 문자인 a,b,c 중 어느 하나도 포함하고 있지 않으므로 매치안된다"
   ]
  },
  {
   "cell_type": "code",
   "execution_count": 61,
   "metadata": {},
   "outputs": [],
   "source": [
    "# 자주 사용하는 문자클래스\n",
    "# [0-9] 또는 [a-zA-Z] 등 자주 사용되는 정규표현식이다 \n",
    "# \\d 숫자와 매치, [0-9] 와 동일한 표현식이다\n",
    "# \\D 숫자가 아닌 것과 매치, [^0-9] 와 동일한 표현식이다\n",
    "# \\s whitespace 문자와 매치, [\\t \\n \\r \\f \\v] 와 동일한 표현식이다 맨앞의 빈칸은 공백이다\n",
    "# \\S whitespace 문자가 아닌것과 매치, [^\\t \\n \\r \\f \\v] 와 동일한 표현식이다\n",
    "# \\w 문자+숫자와 매치, [a-zA-Z0-9] 와 동일한 표현식이다\n",
    "# \\W 문자+숫자가 아닌 문자와 매치, [^a-zA-Z0-9] 와 동일한 표현식이다"
   ]
  },
  {
   "cell_type": "code",
   "execution_count": 62,
   "metadata": {},
   "outputs": [],
   "source": [
    "# Dot(.) 메타문자는 줄바꿈문자인 \\n 를 제외한 모든 문자와 매치됨을 말한다\n",
    "# a.b "
   ]
  },
  {
   "cell_type": "code",
   "execution_count": 63,
   "metadata": {},
   "outputs": [],
   "source": [
    "# 문자열 \"aab\" 는 가운데 문자 \"a\" 가 모든 문자를 의미하는 .과 일치하므로 정규식과 매치한다 \n",
    "# 문자열 \"a0b\" 는 가운데 문자 \"0\" 이 모든 문자를 의미하는 .과 일치하므로 정규식과 매치한다\n",
    "# 문자열 \"abc\" 는 \"a\" 문자와 \"b\" 문자사이에 어떤 문자라도 하나는 있어야하는 \n",
    "# 이 정규식과 일치하지 않으므로 매치안된다"
   ]
  },
  {
   "cell_type": "code",
   "execution_count": 64,
   "metadata": {},
   "outputs": [],
   "source": [
    "# a[.]b\n",
    "# \"a.b\" 라는 문자열과 매치되고 \"a0b\" 라는 문자열과는 매치안된다"
   ]
  },
  {
   "cell_type": "code",
   "execution_count": 65,
   "metadata": {},
   "outputs": [],
   "source": [
    "# 반복(*)\n",
    "# ca*t\n",
    "# 반복을 의미하는 * 메타 문자가 사용된다 여기서 * 바로 앞에 있는 문자 a 가 0부터 무한대로 반복된다"
   ]
  },
  {
   "cell_type": "code",
   "execution_count": 66,
   "metadata": {},
   "outputs": [],
   "source": [
    "# 문자열 ct 는 \"a\"가 0번 반복되어 매치\n",
    "# 문자열 cat 는 \"a\"가 0번이상 1번 반복되어 매치\n",
    "# 문자열 caaat 는 \"a\"가 0번이상 3번 반복되어 매치"
   ]
  },
  {
   "cell_type": "code",
   "execution_count": 67,
   "metadata": {},
   "outputs": [],
   "source": [
    "# 반복(+)\n",
    "# ca+t\n",
    "# 반복을 나타내는 또 다른 메타문자로 +가 있다 +는 최소 1번이상 반복될때 사용"
   ]
  },
  {
   "cell_type": "code",
   "execution_count": 68,
   "metadata": {},
   "outputs": [],
   "source": [
    "# 문자열 ct 는 \"a\"가 0번 반복하여 매치안된다\n",
    "# 문자열 cat 는 \"a\"가 1번이상 1번반복되어 매치\n",
    "# 문자열 caaat 는 \"a\"가 1번이상 3번반복되어 매치"
   ]
  },
  {
   "cell_type": "code",
   "execution_count": 69,
   "metadata": {},
   "outputs": [],
   "source": [
    "# 반복({m,n},?)\n",
    "# { } 메타문자를 이용하면 반복횟수를 고정\n",
    "# {m,n} 정규식을 사용하면 반복횟수가 m부터 n까지인 것을 매치 또한, m 또는 n을 생략할수 있다\n",
    "# {3,} 처럼 사용하면 반복횟수가 3이상인 경우이고 {,3} 처럼 사용하면 반복횟수가 3이하인것이다"
   ]
  },
  {
   "cell_type": "code",
   "execution_count": 70,
   "metadata": {},
   "outputs": [],
   "source": [
    "# {m}\n",
    "# ca{2}t"
   ]
  },
  {
   "cell_type": "code",
   "execution_count": 71,
   "metadata": {},
   "outputs": [],
   "source": [
    "# 문자열 cat \"a\" 가 1번만 반복되어 매치안된다\n",
    "# 문자열 caat \"a\" 가 2번반복되어 매치된다"
   ]
  },
  {
   "cell_type": "code",
   "execution_count": 72,
   "metadata": {},
   "outputs": [],
   "source": [
    "# {m,n}\n",
    "# ca{2,5}t"
   ]
  },
  {
   "cell_type": "code",
   "execution_count": 73,
   "metadata": {},
   "outputs": [],
   "source": [
    "# 문자열 cat \"a\" 가 1번만 반복되어 매치안된다\n",
    "# 문자열 caat \"a\" 가 2번반복되어 매치된다\n",
    "# 문자열 caaaaat \"a\" 가 5번 반복되어 매치된다"
   ]
  },
  {
   "cell_type": "code",
   "execution_count": 74,
   "metadata": {},
   "outputs": [],
   "source": [
    "# ?\n",
    "# 반복은 아니지만 비슷한 개념으로 사용한다 \n",
    "# ab?c"
   ]
  },
  {
   "cell_type": "code",
   "execution_count": 75,
   "metadata": {},
   "outputs": [],
   "source": [
    "# 문자열 abc \"b\" 가 1번 사용되어 매치된다\n",
    "# 문자열 ac \"b\" 가 0번반복되어 매치된다"
   ]
  },
  {
   "cell_type": "code",
   "execution_count": 76,
   "metadata": {},
   "outputs": [],
   "source": [
    "# *, +, ? 메타문자는 모두 {m,n} 형태로 고쳐쓰는것이 가능하지만 \n",
    "# *, +, ? 메타문자를 사용하는것이 좋다"
   ]
  },
  {
   "cell_type": "markdown",
   "metadata": {},
   "source": [
    "#### 정규표현식을 지원하는 re 모듈"
   ]
  },
  {
   "cell_type": "code",
   "execution_count": 77,
   "metadata": {},
   "outputs": [],
   "source": [
    "import re"
   ]
  },
  {
   "cell_type": "code",
   "execution_count": 78,
   "metadata": {},
   "outputs": [],
   "source": [
    "p=re.compile('ab*')"
   ]
  },
  {
   "cell_type": "code",
   "execution_count": 79,
   "metadata": {},
   "outputs": [
    {
     "data": {
      "text/plain": [
       "re.compile(r'ab*', re.UNICODE)"
      ]
     },
     "execution_count": 79,
     "metadata": {},
     "output_type": "execute_result"
    }
   ],
   "source": [
    "p"
   ]
  },
  {
   "cell_type": "code",
   "execution_count": 80,
   "metadata": {},
   "outputs": [],
   "source": [
    "# p는 컴파일된 패턴객체이다"
   ]
  },
  {
   "cell_type": "code",
   "execution_count": 81,
   "metadata": {},
   "outputs": [],
   "source": [
    "# 정규식을 이용한 문자열검색\n",
    "# match() 문자열의 처음부터 정규식과 매치되는지 조사\n",
    "# search() 문자열전체를 검색하여 정규식과 매치되는지 조사\n",
    "# findall() 정규식과 매치되는 모든 문자열을 리스트로 리턴\n",
    "# finditer() 정규식과 매치되는 모든 문자열을 반복가능한 객체로 리턴"
   ]
  },
  {
   "cell_type": "code",
   "execution_count": 82,
   "metadata": {},
   "outputs": [],
   "source": [
    "import re"
   ]
  },
  {
   "cell_type": "code",
   "execution_count": 83,
   "metadata": {},
   "outputs": [],
   "source": [
    "p=re.compile('[a-z]+')"
   ]
  },
  {
   "cell_type": "code",
   "execution_count": 84,
   "metadata": {
    "scrolled": true
   },
   "outputs": [
    {
     "data": {
      "text/plain": [
       "re.compile(r'[a-z]+', re.UNICODE)"
      ]
     },
     "execution_count": 84,
     "metadata": {},
     "output_type": "execute_result"
    }
   ],
   "source": [
    "p"
   ]
  },
  {
   "cell_type": "markdown",
   "metadata": {},
   "source": [
    "#### match"
   ]
  },
  {
   "cell_type": "code",
   "execution_count": 85,
   "metadata": {},
   "outputs": [
    {
     "name": "stdout",
     "output_type": "stream",
     "text": [
      "<_sre.SRE_Match object; span=(0, 6), match='python'>\n"
     ]
    }
   ],
   "source": [
    "m=p.match(\"python\")\n",
    "print(m)"
   ]
  },
  {
   "cell_type": "code",
   "execution_count": 86,
   "metadata": {},
   "outputs": [],
   "source": [
    "# python 이라는 문자열은 [a-z]+ 정규식에 부합되므로 match 객체가 리턴된다"
   ]
  },
  {
   "cell_type": "code",
   "execution_count": 87,
   "metadata": {},
   "outputs": [
    {
     "name": "stdout",
     "output_type": "stream",
     "text": [
      "None\n"
     ]
    }
   ],
   "source": [
    "m=p.match(\"3 python\")\n",
    "print(m)"
   ]
  },
  {
   "cell_type": "code",
   "execution_count": 88,
   "metadata": {},
   "outputs": [],
   "source": [
    "# 3 python이라는 문자열은 처음에 나오는 3이라는 문자가 정규식 [a-z]+ 에 부합되지 않으므로 None 이 리턴된다"
   ]
  },
  {
   "cell_type": "code",
   "execution_count": 89,
   "metadata": {},
   "outputs": [],
   "source": [
    "# p=re.compile # 정규표현식\n",
    "# m=p.match(\"조사할 문자열\")\n",
    "# if m:\n",
    "#     print('Match found: ',m.group())\n",
    "# else:\n",
    "#     print('No match')"
   ]
  },
  {
   "cell_type": "markdown",
   "metadata": {},
   "source": [
    "#### search"
   ]
  },
  {
   "cell_type": "code",
   "execution_count": 90,
   "metadata": {},
   "outputs": [
    {
     "name": "stdout",
     "output_type": "stream",
     "text": [
      "<_sre.SRE_Match object; span=(0, 6), match='python'>\n"
     ]
    }
   ],
   "source": [
    "m=p.search(\"python\")\n",
    "print(m)"
   ]
  },
  {
   "cell_type": "code",
   "execution_count": 91,
   "metadata": {},
   "outputs": [
    {
     "name": "stdout",
     "output_type": "stream",
     "text": [
      "<_sre.SRE_Match object; span=(2, 8), match='python'>\n"
     ]
    }
   ],
   "source": [
    "m=p.search(\"3 python\")\n",
    "print(m)"
   ]
  },
  {
   "cell_type": "markdown",
   "metadata": {},
   "source": [
    "#### findall"
   ]
  },
  {
   "cell_type": "code",
   "execution_count": 92,
   "metadata": {},
   "outputs": [
    {
     "name": "stdout",
     "output_type": "stream",
     "text": [
      "['life', 'is', 'too', 'short']\n"
     ]
    }
   ],
   "source": [
    "result=p.findall(\"life is too short\")\n",
    "print(result)"
   ]
  },
  {
   "cell_type": "markdown",
   "metadata": {},
   "source": [
    "#### finditer"
   ]
  },
  {
   "cell_type": "code",
   "execution_count": 93,
   "metadata": {},
   "outputs": [
    {
     "name": "stdout",
     "output_type": "stream",
     "text": [
      "<callable_iterator object at 0x0000000005AF27B8>\n"
     ]
    }
   ],
   "source": [
    "result=p.finditer(\"life is too short\")\n",
    "print(result)"
   ]
  },
  {
   "cell_type": "code",
   "execution_count": 94,
   "metadata": {},
   "outputs": [
    {
     "name": "stdout",
     "output_type": "stream",
     "text": [
      "<_sre.SRE_Match object; span=(0, 4), match='life'>\n",
      "<_sre.SRE_Match object; span=(5, 7), match='is'>\n",
      "<_sre.SRE_Match object; span=(8, 11), match='too'>\n",
      "<_sre.SRE_Match object; span=(12, 17), match='short'>\n"
     ]
    }
   ],
   "source": [
    "for r in result: print(r)"
   ]
  },
  {
   "cell_type": "code",
   "execution_count": 95,
   "metadata": {},
   "outputs": [],
   "source": [
    "# match 객체 메소드\n",
    "# group() 매치된 문자열을 리턴\n",
    "# start() 매치된 문자열의 시작 위치를 리턴\n",
    "# end() 매치된 문자열의 끝 위치를 리턴\n",
    "# span() 매치된 문자열의 (시작,끝) 에 해당하는 튜플을 리턴"
   ]
  },
  {
   "cell_type": "code",
   "execution_count": 96,
   "metadata": {},
   "outputs": [],
   "source": [
    "import re"
   ]
  },
  {
   "cell_type": "code",
   "execution_count": 97,
   "metadata": {},
   "outputs": [
    {
     "data": {
      "text/plain": [
       "re.compile(r'[a-z]+', re.UNICODE)"
      ]
     },
     "execution_count": 97,
     "metadata": {},
     "output_type": "execute_result"
    }
   ],
   "source": [
    "p=re.compile('[a-z]+')\n",
    "p"
   ]
  },
  {
   "cell_type": "code",
   "execution_count": 98,
   "metadata": {},
   "outputs": [
    {
     "data": {
      "text/plain": [
       "<_sre.SRE_Match object; span=(0, 6), match='python'>"
      ]
     },
     "execution_count": 98,
     "metadata": {},
     "output_type": "execute_result"
    }
   ],
   "source": [
    "m=p.match(\"python\")\n",
    "m"
   ]
  },
  {
   "cell_type": "code",
   "execution_count": 99,
   "metadata": {},
   "outputs": [
    {
     "data": {
      "text/plain": [
       "'python'"
      ]
     },
     "execution_count": 99,
     "metadata": {},
     "output_type": "execute_result"
    }
   ],
   "source": [
    "m.group()"
   ]
  },
  {
   "cell_type": "code",
   "execution_count": 100,
   "metadata": {},
   "outputs": [
    {
     "data": {
      "text/plain": [
       "0"
      ]
     },
     "execution_count": 100,
     "metadata": {},
     "output_type": "execute_result"
    }
   ],
   "source": [
    "m.start()"
   ]
  },
  {
   "cell_type": "code",
   "execution_count": 101,
   "metadata": {},
   "outputs": [
    {
     "data": {
      "text/plain": [
       "6"
      ]
     },
     "execution_count": 101,
     "metadata": {},
     "output_type": "execute_result"
    }
   ],
   "source": [
    "m.end()"
   ]
  },
  {
   "cell_type": "code",
   "execution_count": 102,
   "metadata": {},
   "outputs": [
    {
     "data": {
      "text/plain": [
       "(0, 6)"
      ]
     },
     "execution_count": 102,
     "metadata": {},
     "output_type": "execute_result"
    }
   ],
   "source": [
    "m.span()"
   ]
  },
  {
   "cell_type": "code",
   "execution_count": 103,
   "metadata": {},
   "outputs": [
    {
     "data": {
      "text/plain": [
       "<_sre.SRE_Match object; span=(2, 8), match='python'>"
      ]
     },
     "execution_count": 103,
     "metadata": {},
     "output_type": "execute_result"
    }
   ],
   "source": [
    "m=p.search(\"3 python\")\n",
    "m"
   ]
  },
  {
   "cell_type": "code",
   "execution_count": 104,
   "metadata": {},
   "outputs": [
    {
     "data": {
      "text/plain": [
       "'python'"
      ]
     },
     "execution_count": 104,
     "metadata": {},
     "output_type": "execute_result"
    }
   ],
   "source": [
    "m.group()"
   ]
  },
  {
   "cell_type": "code",
   "execution_count": 105,
   "metadata": {},
   "outputs": [
    {
     "data": {
      "text/plain": [
       "2"
      ]
     },
     "execution_count": 105,
     "metadata": {},
     "output_type": "execute_result"
    }
   ],
   "source": [
    "m.start()"
   ]
  },
  {
   "cell_type": "code",
   "execution_count": 106,
   "metadata": {},
   "outputs": [
    {
     "data": {
      "text/plain": [
       "8"
      ]
     },
     "execution_count": 106,
     "metadata": {},
     "output_type": "execute_result"
    }
   ],
   "source": [
    "m.end()"
   ]
  },
  {
   "cell_type": "code",
   "execution_count": 107,
   "metadata": {},
   "outputs": [
    {
     "data": {
      "text/plain": [
       "(2, 8)"
      ]
     },
     "execution_count": 107,
     "metadata": {},
     "output_type": "execute_result"
    }
   ],
   "source": [
    "m.span()"
   ]
  },
  {
   "cell_type": "markdown",
   "metadata": {},
   "source": [
    "## 컴파일 옵션"
   ]
  },
  {
   "cell_type": "markdown",
   "metadata": {},
   "source": [
    "#### DOTALL, S"
   ]
  },
  {
   "cell_type": "code",
   "execution_count": 108,
   "metadata": {},
   "outputs": [],
   "source": [
    "import re"
   ]
  },
  {
   "cell_type": "code",
   "execution_count": 111,
   "metadata": {},
   "outputs": [],
   "source": [
    "p=re.compile('a.b')"
   ]
  },
  {
   "cell_type": "code",
   "execution_count": 112,
   "metadata": {},
   "outputs": [],
   "source": [
    "m=p.match('a\\nb')"
   ]
  },
  {
   "cell_type": "code",
   "execution_count": 113,
   "metadata": {},
   "outputs": [
    {
     "name": "stdout",
     "output_type": "stream",
     "text": [
      "re.compile('a.b')\n"
     ]
    }
   ],
   "source": [
    "print(p)"
   ]
  },
  {
   "cell_type": "code",
   "execution_count": 114,
   "metadata": {},
   "outputs": [
    {
     "name": "stdout",
     "output_type": "stream",
     "text": [
      "None\n"
     ]
    }
   ],
   "source": [
    "print(m)"
   ]
  },
  {
   "cell_type": "code",
   "execution_count": 115,
   "metadata": {},
   "outputs": [],
   "source": [
    "p=re.compile('a.b',re.DOTALL)"
   ]
  },
  {
   "cell_type": "code",
   "execution_count": 116,
   "metadata": {},
   "outputs": [],
   "source": [
    "m=p.match('a\\nb')"
   ]
  },
  {
   "cell_type": "code",
   "execution_count": 117,
   "metadata": {},
   "outputs": [
    {
     "name": "stdout",
     "output_type": "stream",
     "text": [
      "re.compile('a.b', re.DOTALL)\n"
     ]
    }
   ],
   "source": [
    "print(p)"
   ]
  },
  {
   "cell_type": "code",
   "execution_count": 118,
   "metadata": {},
   "outputs": [
    {
     "name": "stdout",
     "output_type": "stream",
     "text": [
      "<_sre.SRE_Match object; span=(0, 3), match='a\\nb'>\n"
     ]
    }
   ],
   "source": [
    "print(m)"
   ]
  },
  {
   "cell_type": "markdown",
   "metadata": {},
   "source": [
    "#### IGNORECASE,I"
   ]
  },
  {
   "cell_type": "code",
   "execution_count": 119,
   "metadata": {},
   "outputs": [
    {
     "data": {
      "text/plain": [
       "re.compile(r'[a-z]', re.IGNORECASE|re.UNICODE)"
      ]
     },
     "execution_count": 119,
     "metadata": {},
     "output_type": "execute_result"
    }
   ],
   "source": [
    "p=re.compile('[a-z]',re.I)\n",
    "p"
   ]
  },
  {
   "cell_type": "code",
   "execution_count": 120,
   "metadata": {},
   "outputs": [
    {
     "data": {
      "text/plain": [
       "<_sre.SRE_Match object; span=(0, 1), match='p'>"
      ]
     },
     "execution_count": 120,
     "metadata": {},
     "output_type": "execute_result"
    }
   ],
   "source": [
    "p.match('python')"
   ]
  },
  {
   "cell_type": "code",
   "execution_count": 121,
   "metadata": {},
   "outputs": [
    {
     "data": {
      "text/plain": [
       "<_sre.SRE_Match object; span=(0, 1), match='P'>"
      ]
     },
     "execution_count": 121,
     "metadata": {},
     "output_type": "execute_result"
    }
   ],
   "source": [
    "p.match('Python')"
   ]
  },
  {
   "cell_type": "code",
   "execution_count": 122,
   "metadata": {},
   "outputs": [
    {
     "data": {
      "text/plain": [
       "<_sre.SRE_Match object; span=(0, 1), match='P'>"
      ]
     },
     "execution_count": 122,
     "metadata": {},
     "output_type": "execute_result"
    }
   ],
   "source": [
    "p.match('PYTHON')"
   ]
  },
  {
   "cell_type": "code",
   "execution_count": null,
   "metadata": {},
   "outputs": [],
   "source": []
  },
  {
   "cell_type": "markdown",
   "metadata": {},
   "source": [
    "#### MULTILINE, M"
   ]
  },
  {
   "cell_type": "code",
   "execution_count": 123,
   "metadata": {},
   "outputs": [],
   "source": [
    "import re"
   ]
  },
  {
   "cell_type": "code",
   "execution_count": 124,
   "metadata": {},
   "outputs": [
    {
     "data": {
      "text/plain": [
       "re.compile(r'^python\\s\\w+', re.UNICODE)"
      ]
     },
     "execution_count": 124,
     "metadata": {},
     "output_type": "execute_result"
    }
   ],
   "source": [
    "p=re.compile(\"^python\\s\\w+\")\n",
    "p"
   ]
  },
  {
   "cell_type": "code",
   "execution_count": 125,
   "metadata": {},
   "outputs": [
    {
     "name": "stdout",
     "output_type": "stream",
     "text": [
      "['python one']\n"
     ]
    }
   ],
   "source": [
    "data=\"\"\"python one\n",
    "life is too short\n",
    "python two\n",
    "you need python\n",
    "python three\"\"\"\n",
    "print(p.findall(data))"
   ]
  },
  {
   "cell_type": "code",
   "execution_count": 126,
   "metadata": {},
   "outputs": [],
   "source": [
    "# 정규식 ^python\\s\\w+ 은 python이라는 문자열로 시작하고 그 뒤에 whitespace, 그 뒤에 단어가 나와야 하는\n",
    "# 의미이다 검색할 문자열 data는 여러줄로 이루어져 있어 \n",
    "# ^메타문자에 의해 python이라는 문자열이 사영된 첫번째 라인만 매치가 된것\n",
    "# 하지만 ^메타문자를 문자열전체의 처음이 아니라 각 라인의 처음으로 인식시키고 싶은경우\n",
    "# 이럴때 사용하는 옵션이 바로 re.MULTILINE 또는 re.M 이다"
   ]
  },
  {
   "cell_type": "code",
   "execution_count": 127,
   "metadata": {},
   "outputs": [],
   "source": [
    "import re"
   ]
  },
  {
   "cell_type": "code",
   "execution_count": 128,
   "metadata": {},
   "outputs": [
    {
     "data": {
      "text/plain": [
       "re.compile(r'^python\\s\\w+', re.MULTILINE|re.UNICODE)"
      ]
     },
     "execution_count": 128,
     "metadata": {},
     "output_type": "execute_result"
    }
   ],
   "source": [
    "p=re.compile(\"^python\\s\\w+\",re.MULTILINE)\n",
    "p"
   ]
  },
  {
   "cell_type": "code",
   "execution_count": 129,
   "metadata": {},
   "outputs": [
    {
     "name": "stdout",
     "output_type": "stream",
     "text": [
      "['python one', 'python two', 'python three']\n"
     ]
    }
   ],
   "source": [
    "data=\"\"\"python one\n",
    "life is too short\n",
    "python two\n",
    "you need python\n",
    "python three\"\"\"\n",
    "print(p.findall(data))"
   ]
  },
  {
   "cell_type": "markdown",
   "metadata": {},
   "source": [
    "#### VERBOSE,X"
   ]
  },
  {
   "cell_type": "code",
   "execution_count": 130,
   "metadata": {
    "scrolled": true
   },
   "outputs": [],
   "source": [
    "# charref=re.compile(r'&[#](0[0-7]+|[0-9]+|*[0-9a-fA-F]+);')"
   ]
  },
  {
   "cell_type": "code",
   "execution_count": 131,
   "metadata": {
    "scrolled": true
   },
   "outputs": [],
   "source": [
    "# charref=re.compile(r\"\"\"\n",
    "# &[#]\n",
    "# (\n",
    "# 0[0-7]+\n",
    "# | [0-9]+\n",
    "# | *[0-9a-fA-F]+\n",
    "# )\n",
    "# ; \n",
    "# \"\"\",re.VERBOSE)"
   ]
  },
  {
   "cell_type": "code",
   "execution_count": 132,
   "metadata": {},
   "outputs": [],
   "source": [
    "# \\section\n",
    "# 이 정규식은 \\s 문자가 whitespace 로 해석되어 매치가 안된다 "
   ]
  },
  {
   "cell_type": "code",
   "execution_count": 133,
   "metadata": {},
   "outputs": [],
   "source": [
    "# \\\\section"
   ]
  },
  {
   "cell_type": "code",
   "execution_count": 134,
   "metadata": {},
   "outputs": [
    {
     "data": {
      "text/plain": [
       "re.compile(r'\\section', re.UNICODE)"
      ]
     },
     "execution_count": 134,
     "metadata": {},
     "output_type": "execute_result"
    }
   ],
   "source": [
    "p=re.compile('\\\\section')\n",
    "p"
   ]
  },
  {
   "cell_type": "code",
   "execution_count": 135,
   "metadata": {},
   "outputs": [
    {
     "data": {
      "text/plain": [
       "re.compile(r'\\\\section', re.UNICODE)"
      ]
     },
     "execution_count": 135,
     "metadata": {},
     "output_type": "execute_result"
    }
   ],
   "source": [
    "p=re.compile('\\\\\\\\section')\n",
    "p"
   ]
  },
  {
   "cell_type": "code",
   "execution_count": 136,
   "metadata": {},
   "outputs": [
    {
     "data": {
      "text/plain": [
       "re.compile(r'\\\\section', re.UNICODE)"
      ]
     },
     "execution_count": 136,
     "metadata": {},
     "output_type": "execute_result"
    }
   ],
   "source": [
    "p=re.compile(r'\\\\section')\n",
    "p"
   ]
  },
  {
   "cell_type": "code",
   "execution_count": null,
   "metadata": {},
   "outputs": [],
   "source": []
  }
 ],
 "metadata": {
  "kernelspec": {
   "display_name": "Python 3",
   "language": "python",
   "name": "python3"
  },
  "language_info": {
   "codemirror_mode": {
    "name": "ipython",
    "version": 3
   },
   "file_extension": ".py",
   "mimetype": "text/x-python",
   "name": "python",
   "nbconvert_exporter": "python",
   "pygments_lexer": "ipython3",
   "version": "3.6.4"
  }
 },
 "nbformat": 4,
 "nbformat_minor": 2
}
